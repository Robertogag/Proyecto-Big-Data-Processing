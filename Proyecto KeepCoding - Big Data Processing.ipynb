{
 "cells": [
  {
   "cell_type": "markdown",
   "id": "42dd9528",
   "metadata": {},
   "source": [
    "# Proyecto: Big Data Processing\n",
    "\n"
   ]
  },
  {
   "cell_type": "markdown",
   "id": "4d0c101a",
   "metadata": {},
   "source": [
    "### 1. Unión de tablas con las columnas específicas con las que trabajaremos\n",
    "\n",
    "En esta parte solo importamos las dos tablas con las que trabajamos y las unimos para crear un DataFrame llamado \"data\" con el que estaremos trabajando a lo largo de la practica. esto debido a que las tablas no tenian el mismo numero de columnas."
   ]
  },
  {
   "cell_type": "code",
   "execution_count": 2,
   "id": "b252ac46",
   "metadata": {},
   "outputs": [],
   "source": [
    "import pyspark as ps\n",
    "\n",
    "#Creamos una sesion de spark\n",
    "from pyspark.sql import SparkSession\n",
    "from pyspark.sql.functions import col\n",
    "\n",
    "\n",
    "#Creamos un objeto de spark session\n",
    "spark = SparkSession.builder.appName(\"pysparkdf\").getOrCreate()"
   ]
  },
  {
   "cell_type": "code",
   "execution_count": 3,
   "id": "9828d6c7",
   "metadata": {},
   "outputs": [],
   "source": [
    "reporte_1 = r\"C:\\Users\\rober\\OneDrive\\Desktop\\Bootcamp\\Big Data e IA bootcamp\\Data Processing\\Proyecto Final\\world-happiness-report.csv\"\n",
    "reporte_2 = r\"C:\\Users\\rober\\OneDrive\\Desktop\\Bootcamp\\Big Data e IA bootcamp\\Data Processing\\Proyecto Final\\world-happiness-report-2021.csv\"\n",
    "\n",
    "df1 = spark.read.option(\"header\", \"true\").csv(reporte_1)\n",
    "reporte2 = spark.read.option(\"header\", \"true\").csv(reporte_2)"
   ]
  },
  {
   "cell_type": "code",
   "execution_count": 4,
   "id": "153c7578",
   "metadata": {},
   "outputs": [
    {
     "name": "stdout",
     "output_type": "stream",
     "text": [
      "Schema of df1:\n",
      "root\n",
      " |-- Country name: string (nullable = true)\n",
      " |-- year: string (nullable = true)\n",
      " |-- Life Ladder: string (nullable = true)\n",
      " |-- Log GDP per capita: string (nullable = true)\n",
      " |-- Social support: string (nullable = true)\n",
      " |-- Healthy life expectancy at birth: string (nullable = true)\n",
      " |-- Freedom to make life choices: string (nullable = true)\n",
      " |-- Generosity: string (nullable = true)\n",
      " |-- Perceptions of corruption: string (nullable = true)\n",
      " |-- Positive affect: string (nullable = true)\n",
      " |-- Negative affect: string (nullable = true)\n",
      "\n"
     ]
    }
   ],
   "source": [
    "print(\"Schema of df1:\")\n",
    "df1.printSchema()"
   ]
  },
  {
   "cell_type": "code",
   "execution_count": 5,
   "id": "fd497872",
   "metadata": {
    "scrolled": true
   },
   "outputs": [
    {
     "name": "stdout",
     "output_type": "stream",
     "text": [
      "Schema of df2:\n",
      "root\n",
      " |-- Country name: string (nullable = true)\n",
      " |-- Regional indicator: string (nullable = true)\n",
      " |-- Ladder score: string (nullable = true)\n",
      " |-- Standard error of ladder score: string (nullable = true)\n",
      " |-- upperwhisker: string (nullable = true)\n",
      " |-- lowerwhisker: string (nullable = true)\n",
      " |-- Logged GDP per capita: string (nullable = true)\n",
      " |-- Social support: string (nullable = true)\n",
      " |-- Healthy life expectancy: string (nullable = true)\n",
      " |-- Freedom to make life choices: string (nullable = true)\n",
      " |-- Generosity: string (nullable = true)\n",
      " |-- Perceptions of corruption: string (nullable = true)\n",
      " |-- Ladder score in Dystopia: string (nullable = true)\n",
      " |-- Explained by: Log GDP per capita: string (nullable = true)\n",
      " |-- Explained by: Social support: string (nullable = true)\n",
      " |-- Explained by: Healthy life expectancy: string (nullable = true)\n",
      " |-- Explained by: Freedom to make life choices: string (nullable = true)\n",
      " |-- Explained by: Generosity: string (nullable = true)\n",
      " |-- Explained by: Perceptions of corruption: string (nullable = true)\n",
      " |-- Dystopia + residual: string (nullable = true)\n",
      "\n"
     ]
    }
   ],
   "source": [
    "print(\"Schema of df2:\")\n",
    "reporte2.printSchema()"
   ]
  },
  {
   "cell_type": "code",
   "execution_count": 6,
   "id": "c8b60714",
   "metadata": {},
   "outputs": [],
   "source": [
    "# Agregamos la columna year a nuestro df2 ya que no contaba el\n",
    "\n",
    "from pyspark.sql.functions import lit\n",
    "\n",
    "df2 = reporte2.withColumn(\"year\", lit(2021))\n",
    "\n",
    "\n"
   ]
  },
  {
   "cell_type": "code",
   "execution_count": 7,
   "id": "cc4c6aa3",
   "metadata": {},
   "outputs": [
    {
     "name": "stdout",
     "output_type": "stream",
     "text": [
      "+------------+----+-----------+------------------+--------------------------------+\n",
      "|Country name|year|Life Ladder|Log GDP per capita|Healthy life expectancy at birth|\n",
      "+------------+----+-----------+------------------+--------------------------------+\n",
      "| Afghanistan|2008|      3.724|             7.370|                          50.800|\n",
      "| Afghanistan|2009|      4.402|             7.540|                          51.200|\n",
      "| Afghanistan|2010|      4.758|             7.647|                          51.600|\n",
      "| Afghanistan|2011|      3.832|             7.620|                          51.920|\n",
      "| Afghanistan|2012|      3.783|             7.705|                          52.240|\n",
      "| Afghanistan|2013|      3.572|             7.725|                          52.560|\n",
      "| Afghanistan|2014|      3.131|             7.718|                          52.880|\n",
      "| Afghanistan|2015|      3.983|             7.702|                          53.200|\n",
      "| Afghanistan|2016|      4.220|             7.697|                          53.000|\n",
      "| Afghanistan|2017|      2.662|             7.697|                          52.800|\n",
      "| Afghanistan|2018|      2.694|             7.692|                          52.600|\n",
      "| Afghanistan|2019|      2.375|             7.697|                          52.400|\n",
      "|     Albania|2007|      4.634|             9.142|                          65.800|\n",
      "|     Albania|2009|      5.485|             9.262|                          66.200|\n",
      "|     Albania|2010|      5.269|             9.303|                          66.400|\n",
      "|     Albania|2011|      5.867|             9.331|                          66.680|\n",
      "|     Albania|2012|      5.510|             9.347|                          66.960|\n",
      "|     Albania|2013|      4.551|             9.359|                          67.240|\n",
      "|     Albania|2014|      4.814|             9.378|                          67.520|\n",
      "|     Albania|2015|      4.607|             9.403|                          67.800|\n",
      "+------------+----+-----------+------------------+--------------------------------+\n",
      "only showing top 20 rows\n",
      "\n",
      "+--------------+----+------------+---------------------+-----------------------+\n",
      "|Country name  |year|Ladder score|Logged GDP per capita|Healthy life expectancy|\n",
      "+--------------+----+------------+---------------------+-----------------------+\n",
      "|Finland       |2021|7.842       |10.775               |72.000                 |\n",
      "|Denmark       |2021|7.620       |10.933               |72.700                 |\n",
      "|Switzerland   |2021|7.571       |11.117               |74.400                 |\n",
      "|Iceland       |2021|7.554       |10.878               |73.000                 |\n",
      "|Netherlands   |2021|7.464       |10.932               |72.400                 |\n",
      "|Norway        |2021|7.392       |11.053               |73.300                 |\n",
      "|Sweden        |2021|7.363       |10.867               |72.700                 |\n",
      "|Luxembourg    |2021|7.324       |11.647               |72.600                 |\n",
      "|New Zealand   |2021|7.277       |10.643               |73.400                 |\n",
      "|Austria       |2021|7.268       |10.906               |73.300                 |\n",
      "|Australia     |2021|7.183       |10.796               |73.900                 |\n",
      "|Israel        |2021|7.157       |10.575               |73.503                 |\n",
      "|Germany       |2021|7.155       |10.873               |72.500                 |\n",
      "|Canada        |2021|7.103       |10.776               |73.800                 |\n",
      "|Ireland       |2021|7.085       |11.342               |72.400                 |\n",
      "|Costa Rica    |2021|7.069       |9.880                |71.400                 |\n",
      "|United Kingdom|2021|7.064       |10.707               |72.500                 |\n",
      "|Czech Republic|2021|6.965       |10.556               |70.807                 |\n",
      "|United States |2021|6.951       |11.023               |68.200                 |\n",
      "|Belgium       |2021|6.834       |10.823               |72.199                 |\n",
      "+--------------+----+------------+---------------------+-----------------------+\n",
      "only showing top 20 rows\n",
      "\n"
     ]
    }
   ],
   "source": [
    "# Seleccionar las columnas específicas de df1\n",
    "columns_df1 = [\"Country name\", \"year\", \"Life Ladder\", \"Log GDP per capita\", \"Healthy life expectancy at birth\"]\n",
    "new_df1 = df1.select(columns_df1)\n",
    "\n",
    "# Seleccionar las columnas específicas de df2, incluyendo \"Regional indicator\"\n",
    "columns_df2 = [\"Country name\", \"year\", \"Ladder score\", \"Logged GDP per capita\", \"Healthy life expectancy\"]\n",
    "new_df2 = df2.select(columns_df2)\n",
    "\n",
    "# Mostrar los nuevos DataFrames\n",
    "new_df1.show()\n",
    "new_df2.show(truncate=False)\n",
    "\n"
   ]
  },
  {
   "cell_type": "code",
   "execution_count": 8,
   "id": "6f189b59",
   "metadata": {},
   "outputs": [
    {
     "name": "stdout",
     "output_type": "stream",
     "text": [
      "+------------+----+-----------+------------------+--------------------------------+\n",
      "|Country name|year|Life Ladder|Log GDP per capita|Healthy life expectancy at birth|\n",
      "+------------+----+-----------+------------------+--------------------------------+\n",
      "| Afghanistan|2008|      3.724|             7.370|                          50.800|\n",
      "| Afghanistan|2009|      4.402|             7.540|                          51.200|\n",
      "| Afghanistan|2010|      4.758|             7.647|                          51.600|\n",
      "| Afghanistan|2011|      3.832|             7.620|                          51.920|\n",
      "| Afghanistan|2012|      3.783|             7.705|                          52.240|\n",
      "| Afghanistan|2013|      3.572|             7.725|                          52.560|\n",
      "| Afghanistan|2014|      3.131|             7.718|                          52.880|\n",
      "| Afghanistan|2015|      3.983|             7.702|                          53.200|\n",
      "| Afghanistan|2016|      4.220|             7.697|                          53.000|\n",
      "| Afghanistan|2017|      2.662|             7.697|                          52.800|\n",
      "| Afghanistan|2018|      2.694|             7.692|                          52.600|\n",
      "| Afghanistan|2019|      2.375|             7.697|                          52.400|\n",
      "| Afghanistan|2021|      2.523|             7.695|                          52.493|\n",
      "|     Albania|2007|      4.634|             9.142|                          65.800|\n",
      "|     Albania|2009|      5.485|             9.262|                          66.200|\n",
      "|     Albania|2010|      5.269|             9.303|                          66.400|\n",
      "|     Albania|2011|      5.867|             9.331|                          66.680|\n",
      "|     Albania|2012|      5.510|             9.347|                          66.960|\n",
      "|     Albania|2013|      4.551|             9.359|                          67.240|\n",
      "|     Albania|2014|      4.814|             9.378|                          67.520|\n",
      "+------------+----+-----------+------------------+--------------------------------+\n",
      "only showing top 20 rows\n",
      "\n"
     ]
    }
   ],
   "source": [
    "\n",
    "from pyspark.sql.functions import col\n",
    "\n",
    "\n",
    "# Combinar los dos DataFrames\n",
    "data_union = new_df1.unionAll(new_df2)\n",
    "\n",
    "# Eliminar filas con valores nulos en cualquier columna\n",
    "data_cleaned = data_union.na.drop()\n",
    "\n",
    "# Ordenar el DataFrame resultante por \"Country name\" y \"year\"\n",
    "data = data_cleaned.sort(\"Country name\", \"year\")\n",
    "\n",
    "# Mostrar el DataFrame resultante\n",
    "data.show()\n"
   ]
  },
  {
   "cell_type": "markdown",
   "id": "30d71dff",
   "metadata": {},
   "source": [
    "##   1. ¿Cuál es el país más “feliz” del 2021 según la data? (considerar que la columna “Ladder score”\n"
   ]
  },
  {
   "cell_type": "code",
   "execution_count": 9,
   "id": "7728912e",
   "metadata": {},
   "outputs": [
    {
     "name": "stdout",
     "output_type": "stream",
     "text": [
      "El país más feliz del 2021 es: Finland\n",
      "Puntaje: 7.842\n"
     ]
    }
   ],
   "source": [
    "from pyspark.sql.functions import col\n",
    "\n",
    "# Ordenar el DataFrame por la columna \"Ladder score\" en orden descendente\n",
    "data = data.orderBy(col(\"Life Ladder\").desc())\n",
    "\n",
    "# Tomar el primer registro que corresponde al país más \"feliz\" del 2021\n",
    "pais_mas_feliz_2021 = data.filter(col(\"year\") == 2021).first()\n",
    "\n",
    "# Obtener el nombre del país más \"feliz\" y su puntaje correspondiente\n",
    "nombre_del_pais_mas_feliz_2021 = pais_mas_feliz_2021[\"Country name\"]\n",
    "puntaje_mas_feliz_2021 = pais_mas_feliz_2021[\"Life Ladder\"]\n",
    "\n",
    "print(\"El país más feliz del 2021 es:\", nombre_del_pais_mas_feliz_2021)\n",
    "print(\"Puntaje:\", puntaje_mas_feliz_2021)\n",
    "\n"
   ]
  },
  {
   "cell_type": "markdown",
   "id": "f3b1ff11",
   "metadata": {},
   "source": [
    "## 2. ¿Cuál es el país más “feliz” del 2021 por continente según la data?"
   ]
  },
  {
   "cell_type": "code",
   "execution_count": 10,
   "id": "85e31f90",
   "metadata": {
    "scrolled": true
   },
   "outputs": [
    {
     "name": "stdout",
     "output_type": "stream",
     "text": [
      "+----------------------------------+------------------------+------------+\n",
      "|Regional indicator                |Country name            |Ladder score|\n",
      "+----------------------------------+------------------------+------------+\n",
      "|Western Europe                    |Finland                 |7.842       |\n",
      "|North America and ANZ             |New Zealand             |7.277       |\n",
      "|Middle East and North Africa      |Israel                  |7.157       |\n",
      "|Latin America and Caribbean       |Costa Rica              |7.069       |\n",
      "|Central and Eastern Europe        |Czech Republic          |6.965       |\n",
      "|East Asia                         |Taiwan Province of China|6.584       |\n",
      "|Southeast Asia                    |Singapore               |6.377       |\n",
      "|Commonwealth of Independent States|Uzbekistan              |6.179       |\n",
      "|Sub-Saharan Africa                |Mauritius               |6.049       |\n",
      "|South Asia                        |Nepal                   |5.269       |\n",
      "+----------------------------------+------------------------+------------+\n",
      "\n"
     ]
    }
   ],
   "source": [
    "from pyspark.sql.functions import col, rank\n",
    "from pyspark.sql.window import Window\n",
    "\n",
    "window_spec = Window.partitionBy(\"Regional indicator\").orderBy(col(\"Ladder score\").desc())\n",
    "top_happy_per_continent = df2.withColumn(\"rank\", rank().over(window_spec)).filter(col(\"rank\") == 1)\n",
    "\n",
    "top_happy_per_continent.select(\"Regional indicator\", \"Country name\", \"Ladder score\").orderBy(col(\"Ladder score\").desc()).show(truncate=False)\n"
   ]
  },
  {
   "cell_type": "markdown",
   "id": "896a66f2",
   "metadata": {},
   "source": [
    "## 3. ¿Cuál es el país que más veces ocupó el primer lugar en todos los años?"
   ]
  },
  {
   "cell_type": "code",
   "execution_count": 11,
   "id": "4139a1a9",
   "metadata": {},
   "outputs": [
    {
     "name": "stdout",
     "output_type": "stream",
     "text": [
      "-----------------------------------------------\n",
      "Año: 2005\n",
      "País ganador: Denmark\n",
      "Puntaje: 8.019\n",
      "-----------------------------------------------\n",
      "-----------------------------------------------\n",
      "Año: 2006\n",
      "País ganador: Finland\n",
      "Puntaje: 7.672\n",
      "-----------------------------------------------\n",
      "-----------------------------------------------\n",
      "Año: 2007\n",
      "País ganador: Denmark\n",
      "Puntaje: 7.834\n",
      "-----------------------------------------------\n",
      "-----------------------------------------------\n",
      "Año: 2008\n",
      "País ganador: Denmark\n",
      "Puntaje: 7.971\n",
      "-----------------------------------------------\n",
      "-----------------------------------------------\n",
      "Año: 2009\n",
      "País ganador: Denmark\n",
      "Puntaje: 7.683\n",
      "-----------------------------------------------\n",
      "-----------------------------------------------\n",
      "Año: 2010\n",
      "País ganador: Denmark\n",
      "Puntaje: 7.771\n",
      "-----------------------------------------------\n",
      "-----------------------------------------------\n",
      "Año: 2011\n",
      "País ganador: Denmark\n",
      "Puntaje: 7.788\n",
      "-----------------------------------------------\n",
      "-----------------------------------------------\n",
      "Año: 2012\n",
      "País ganador: Switzerland\n",
      "Puntaje: 7.776\n",
      "-----------------------------------------------\n",
      "-----------------------------------------------\n",
      "Año: 2013\n",
      "País ganador: Canada\n",
      "Puntaje: 7.594\n",
      "-----------------------------------------------\n",
      "-----------------------------------------------\n",
      "Año: 2014\n",
      "País ganador: Denmark\n",
      "Puntaje: 7.508\n",
      "-----------------------------------------------\n",
      "-----------------------------------------------\n",
      "Año: 2015\n",
      "País ganador: Norway\n",
      "Puntaje: 7.603\n",
      "-----------------------------------------------\n",
      "-----------------------------------------------\n",
      "Año: 2016\n",
      "País ganador: Finland\n",
      "Puntaje: 7.660\n",
      "-----------------------------------------------\n",
      "-----------------------------------------------\n",
      "Año: 2017\n",
      "País ganador: Finland\n",
      "Puntaje: 7.788\n",
      "-----------------------------------------------\n",
      "-----------------------------------------------\n",
      "Año: 2018\n",
      "País ganador: Finland\n",
      "Puntaje: 7.858\n",
      "-----------------------------------------------\n",
      "-----------------------------------------------\n",
      "Año: 2019\n",
      "País ganador: Finland\n",
      "Puntaje: 7.780\n",
      "-----------------------------------------------\n",
      "-----------------------------------------------\n",
      "Año: 2020\n",
      "País ganador: Finland\n",
      "Puntaje: 7.889\n",
      "-----------------------------------------------\n",
      "-----------------------------------------------\n",
      "Año: 2021\n",
      "País ganador: Finland\n",
      "Puntaje: 7.842\n",
      "-----------------------------------------------\n"
     ]
    }
   ],
   "source": [
    "from pyspark.sql.window import Window\n",
    "from pyspark.sql import functions as F\n",
    "from pyspark.sql.functions import col, max\n",
    "\n",
    "# Crea una ventana particionada por año\n",
    "window_spec = Window().partitionBy(\"year\").orderBy(F.desc(\"Life Ladder\"))\n",
    "\n",
    "# Agrega una columna de rango por puntaje dentro de cada año\n",
    "ranked = data.withColumn(\"rank\", F.row_number().over(window_spec))\n",
    "\n",
    "# Filtra las filas con rango igual a 1 (puntaje máximo) para cada año\n",
    "ganadores_por_anio = ranked.filter(\"rank = 1\")\n",
    "\n",
    "# Muestra el resultado\n",
    "for row in ganadores_por_anio.collect():\n",
    "    print(\"-----------------------------------------------\")\n",
    "    print(f\"Año: {row['year']}\")\n",
    "    print(f\"País ganador: {row['Country name']}\")\n",
    "    print(f\"Puntaje: {row['Life Ladder']}\")\n",
    "    print(\"-----------------------------------------------\")\n",
    "    "
   ]
  },
  {
   "cell_type": "markdown",
   "id": "94a5ade4",
   "metadata": {},
   "source": [
    "### Resultado:"
   ]
  },
  {
   "cell_type": "code",
   "execution_count": 12,
   "id": "8e12e99e",
   "metadata": {},
   "outputs": [
    {
     "name": "stdout",
     "output_type": "stream",
     "text": [
      "TOP Resultados\n",
      "Empate entre los siguientes países:\n",
      "+------------+----------+------------------------------------------+\n",
      "|Country name|Frecuencia|Años_Ganados                              |\n",
      "+------------+----------+------------------------------------------+\n",
      "|Finland     |7         |[2006, 2016, 2017, 2018, 2019, 2020, 2021]|\n",
      "|Denmark     |7         |[2005, 2007, 2008, 2009, 2010, 2011, 2014]|\n",
      "+------------+----------+------------------------------------------+\n",
      "\n"
     ]
    }
   ],
   "source": [
    "from pyspark.sql import functions as F\n",
    "\n",
    "# Cuenta las ocurrencias de cada país en el DataFrame resultante\n",
    "conteo_por_pais = ganadores_por_anio.groupBy(\"Country name\").agg(\n",
    "    F.count(\"Country name\").alias(\"Frecuencia\"),\n",
    "    F.collect_list(\"year\").alias(\"Años_Ganados\")\n",
    ")\n",
    "\n",
    "# Encuentra el país con el conteo más alto\n",
    "max_frecuencia = conteo_por_pais.agg(F.max(\"Frecuencia\").alias(\"Max_Frecuencia\")).first()[\"Max_Frecuencia\"]\n",
    "\n",
    "# Filtra los países que tienen la máxima frecuencia\n",
    "pais_mas_frecuente = conteo_por_pais.filter(conteo_por_pais[\"Frecuencia\"] == max_frecuencia)\n",
    "\n",
    "# Muestra el resultado\n",
    "title = \"TOP Resultados\"\n",
    "print(title)\n",
    "\n",
    "if pais_mas_frecuente.count() == 1:\n",
    "    pais_mas_frecuente.show(truncate=False)\n",
    "else:\n",
    "    print(\"Empate entre los siguientes países:\")\n",
    "    pais_mas_frecuente.show(truncate=False)\n",
    "\n",
    "\n"
   ]
  },
  {
   "cell_type": "markdown",
   "id": "549919fc",
   "metadata": {},
   "source": [
    "### Gráfica:"
   ]
  },
  {
   "cell_type": "code",
   "execution_count": 13,
   "id": "bf7969a5",
   "metadata": {},
   "outputs": [
    {
     "name": "stderr",
     "output_type": "stream",
     "text": [
      "C:\\Users\\rober\\AppData\\Local\\Temp\\ipykernel_13772\\917753732.py:9: MatplotlibDeprecationWarning: The seaborn styles shipped by Matplotlib are deprecated since 3.6, as they no longer correspond to the styles shipped by seaborn. However, they will remain available as 'seaborn-v0_8-<style>'. Alternatively, directly use the seaborn API instead.\n",
      "  plt.style.use('seaborn-whitegrid')\n",
      "No artists with labels found to put in legend.  Note that artists whose label start with an underscore are ignored when legend() is called with no argument.\n"
     ]
    },
    {
     "data": {
      "image/png": "[encoded data removed]",
      "text/plain": [
       "<Figure size 1200x800 with 1 Axes>"
      ]
     },
     "metadata": {},
     "output_type": "display_data"
    }
   ],
   "source": [
    "import matplotlib.pyplot as plt\n",
    "import pandas as pd\n",
    "\n",
    "\n",
    "df_result = ganadores_por_anio.select(\"Country name\").groupBy(\"Country name\").count().toPandas()\n",
    "\n",
    "df_result = df_result.sort_values(by='count', ascending=False).head(5)\n",
    "\n",
    "plt.style.use('seaborn-whitegrid')\n",
    "plt.figure(figsize=(12, 8))\n",
    "\n",
    "colors = ['#00509E', '#F7941D', '#00A859', '#FC671D', '#3FA9F5']\n",
    "\n",
    "bars = plt.bar(df_result[\"Country name\"], df_result[\"count\"], color=colors, edgecolor='black', alpha=0.8)\n",
    "\n",
    "# Añade etiquetas y título \n",
    "plt.xlabel('Países', fontsize=14, fontweight='bold', color='#333333', fontfamily='Arial')\n",
    "plt.ylabel('Frecuencia de Victorias', fontsize=14, fontweight='bold', color='#333333', fontfamily='Arial')\n",
    "plt.title('Top 5 Países Ganadores', fontsize=18, fontweight='bold', color='#00509E', fontfamily='Arial')\n",
    "\n",
    "for bar, color in zip(bars, colors):\n",
    "    yval = bar.get_height()\n",
    "    plt.text(bar.get_x() + bar.get_width()/2, yval, f'{yval}', ha='center', va='bottom', fontsize=12, color=color)\n",
    "\n",
    "plt.legend(['Frecuencia'], loc='upper right', fontsize=12)\n",
    "\n",
    "plt.gca().set_facecolor('#F5F5F5')\n",
    "\n",
    "plt.gca().legend(frameon=False)\n",
    "\n",
    "plt.gca().spines['top'].set_visible(False)\n",
    "plt.gca().spines['right'].set_visible(False)\n",
    "\n",
    "plt.yticks(fontsize=12, color='#333333', fontfamily='Arial')\n",
    "\n",
    "plt.show()\n",
    "\n"
   ]
  },
  {
   "cell_type": "markdown",
   "id": "423024d6",
   "metadata": {},
   "source": [
    "## 4. ¿Qué puesto de Felicidad tiene el país con mayor GDP del 2020?\n",
    "\n",
    "aqui tuve complicaciones por el tipo de dato al combinar las tablas es por ellos que se uso un cast as float en life ladder"
   ]
  },
  {
   "cell_type": "code",
   "execution_count": 83,
   "id": "89834781",
   "metadata": {},
   "outputs": [
    {
     "name": "stdout",
     "output_type": "stream",
     "text": [
      "+--------------------+----+-----------+------------------+----------------+\n",
      "|Country name        |year|Life Ladder|Log GDP per capita|life_ladder_rank|\n",
      "+--------------------+----+-----------+------------------+----------------+\n",
      "|Ireland             |2020|7.035      |11.323            |13              |\n",
      "|Switzerland         |2020|7.508      |11.081            |4               |\n",
      "|United Arab Emirates|2020|6.458      |11.053            |26              |\n",
      "|Norway              |2020|7.290      |11.042            |8               |\n",
      "|United States       |2020|7.028      |11.001            |14              |\n",
      "+--------------------+----+-----------+------------------+----------------+\n",
      "\n",
      "El país con el mayor Log GDP per capita en 2020 es: Ireland\n",
      "Life Ladder Rank: 13\n"
     ]
    }
   ],
   "source": [
    "from pyspark.sql.functions import col\n",
    "\n",
    "data.createOrReplaceTempView(\"datos\")\n",
    "\n",
    "# Convertir la columna 'Log GDP per capita' a tipo numérico y obtener los primeros 5 países en 2020\n",
    "query = \"\"\"\n",
    "    SELECT `Country name`, `year`, `Life Ladder`, `Log GDP per capita`,\n",
    "           ROW_NUMBER() OVER (ORDER BY CAST(`Life Ladder` AS FLOAT) DESC) as life_ladder_rank\n",
    "    FROM datos\n",
    "    WHERE year = 2020\n",
    "    ORDER BY CAST(`Log GDP per capita` AS FLOAT) DESC\n",
    "    LIMIT 5\n",
    "\"\"\"\n",
    "\n",
    "result = spark.sql(query)\n",
    "\n",
    "# Mostrar el resultado\n",
    "result.show(truncate=False)\n",
    "\n",
    "# Imprimir el mensaje \n",
    "if not result.isEmpty():\n",
    "    country_name = result.select(\"Country name\").first()[0]\n",
    "    print(f\"El país con el mayor Log GDP per capita en 2020 es: {country_name}\")\n",
    "    life_ladder_rank = result.select(\"life_ladder_rank\").first()[0]\n",
    "    print(f\"Life Ladder Rank: {life_ladder_rank}\")\n",
    "else:\n",
    "    print(\"No hay datos para mostrar.\")\n"
   ]
  },
  {
   "cell_type": "markdown",
   "id": "5f8617e1",
   "metadata": {},
   "source": [
    "## 5. ¿En que porcentaje a variado a nivel mundial el GDP promedio del 2020 respecto al 2021? ¿Aumentó o disminuyó?"
   ]
  },
  {
   "cell_type": "code",
   "execution_count": 84,
   "id": "5ad7c1d9",
   "metadata": {},
   "outputs": [
    {
     "name": "stdout",
     "output_type": "stream",
     "text": [
      "El GDP promedio a nivel mundial en 2020 fue: 9.751329545454546\n",
      "El GDP promedio a nivel mundial en 2021 fue: 9.432208053691273\n",
      "La variación porcentual a nivel mundial del GDP promedio entre 2020 y 2021 fue del -3.27% y disminuyó.\n"
     ]
    }
   ],
   "source": [
    "from pyspark.sql.functions import avg, col\n",
    "\n",
    "data.createOrReplaceTempView(\"datos\")\n",
    "\n",
    "# Calcular el GDP promedio para el año 2020\n",
    "gdp_2020 = spark.sql(\"\"\"\n",
    "    SELECT AVG(`Log GDP per capita`) as avg_gdp_2020\n",
    "    FROM datos\n",
    "    WHERE year = 2020\n",
    "\"\"\").collect()[0][\"avg_gdp_2020\"]\n",
    "\n",
    "# Calcular el GDP promedio para el año 2021\n",
    "gdp_2021 = spark.sql(\"\"\"\n",
    "    SELECT AVG(`Log GDP per capita`) as avg_gdp_2021\n",
    "    FROM datos\n",
    "    WHERE year = 2021\n",
    "\"\"\").collect()[0][\"avg_gdp_2021\"]\n",
    "\n",
    "# Calcular la variación porcentual\n",
    "percentage_change = ((gdp_2021 - gdp_2020) / gdp_2020) * 100\n",
    "\n",
    "# Determinar si aumentó o disminuyó\n",
    "change_status = \"aumentó\" if percentage_change > 0 else \"disminuyó\"\n",
    "\n",
    "# Mostrar los resultados\n",
    "print(f\"El GDP promedio a nivel mundial en 2020 fue: {gdp_2020}\")\n",
    "print(f\"El GDP promedio a nivel mundial en 2021 fue: {gdp_2021}\")\n",
    "print(f\"La variación porcentual a nivel mundial del GDP promedio entre 2020 y 2021 fue del {percentage_change:.2f}% y {change_status}.\")\n"
   ]
  },
  {
   "cell_type": "markdown",
   "id": "6e0e69df",
   "metadata": {},
   "source": [
    "## 6. ¿Cuál es el país con mayor expectativa de vide (“Healthy life expectancy at birth”)? Y ¿Cuánto tenia en ese indicador en el 2019?\n"
   ]
  },
  {
   "cell_type": "code",
   "execution_count": 107,
   "id": "8643e2b6",
   "metadata": {
    "scrolled": true
   },
   "outputs": [
    {
     "name": "stdout",
     "output_type": "stream",
     "text": [
      "+------------+----+--------------------------------+\n",
      "|Country name|year|Healthy life expectancy at birth|\n",
      "+------------+----+--------------------------------+\n",
      "|Singapore   |2021|76.953                          |\n",
      "+------------+----+--------------------------------+\n",
      "\n",
      "+------------+----+--------------------------------+\n",
      "|Country name|year|Healthy life expectancy at birth|\n",
      "+------------+----+--------------------------------+\n",
      "|Singapore   |2019|77.100                          |\n",
      "+------------+----+--------------------------------+\n",
      "\n"
     ]
    }
   ],
   "source": [
    "from pyspark.sql.functions import col\n",
    "\n",
    "# Asumiendo que 'data' es el DataFrame que contiene tus datos\n",
    "data.createOrReplaceTempView(\"datos\")\n",
    "\n",
    "# Encontrar el país con la mayor expectativa de vida en 2021\n",
    "max_life_expectancy_2021_query = \"\"\"\n",
    "    SELECT `Country name`, `year`, `Healthy life expectancy at birth` \n",
    "    FROM datos\n",
    "    WHERE year = 2021\n",
    "    ORDER BY `Healthy life expectancy at birth` DESC\n",
    "    LIMIT 1\n",
    "\"\"\"\n",
    "\n",
    "max_life_expectancy_2021_result = spark.sql(max_life_expectancy_2021_query)\n",
    "\n",
    "# Mostrar el resultado de 2021\n",
    "max_life_expectancy_2021_result.show(truncate=False)\n",
    "\n",
    "# Obtener la expectativa de vida en 2019 para el país encontrado en 2021\n",
    "if not max_life_expectancy_2021_result.isEmpty():\n",
    "    max_life_expectancy_country_name = max_life_expectancy_2021_result.select(\"Country name\").first()[0]\n",
    "    life_expectancy_2019_query = f\"\"\"\n",
    "        SELECT `Country name`, `year`, `Healthy life expectancy at birth` \n",
    "        FROM datos\n",
    "        WHERE `Country name` = '{max_life_expectancy_country_name}' AND year = 2019\n",
    "    \"\"\"\n",
    "    life_expectancy_2019_result = spark.sql(life_expectancy_2019_query)\n",
    "    \n",
    "    # Mostrar el resultado de 2019 para el mismo país\n",
    "    life_expectancy_2019_result.show(truncate=False)\n",
    "else:\n",
    "    print(\"No hay datos para mostrar.\")\n",
    "\n"
   ]
  },
  {
   "cell_type": "code",
   "execution_count": null,
   "id": "f0e7d4a2",
   "metadata": {},
   "outputs": [],
   "source": []
  }
 ],
 "metadata": {
  "kernelspec": {
   "display_name": "Python 3 (ipykernel)",
   "language": "python",
   "name": "python3"
  },
  "language_info": {
   "codemirror_mode": {
    "name": "ipython",
    "version": 3
   },
   "file_extension": ".py",
   "mimetype": "text/x-python",
   "name": "python",
   "nbconvert_exporter": "python",
   "pygments_lexer": "ipython3",
   "version": "3.10.9"
  }
 },
 "nbformat": 4,
 "nbformat_minor": 5
}
